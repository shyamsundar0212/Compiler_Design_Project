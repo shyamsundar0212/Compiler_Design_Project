{
 "cells": [
  {
   "cell_type": "code",
   "execution_count": 209,
   "id": "5825cf0e",
   "metadata": {},
   "outputs": [],
   "source": [
    "file = open(\"testcase_included_by_us_2.cpp\",\"r\")"
   ]
  },
  {
   "cell_type": "code",
   "execution_count": 210,
   "id": "ae15775e",
   "metadata": {},
   "outputs": [],
   "source": [
    "inp = file.read()"
   ]
  },
  {
   "cell_type": "code",
   "execution_count": 211,
   "id": "0353966f",
   "metadata": {},
   "outputs": [
    {
     "data": {
      "text/plain": [
       "'#include <iostream>\\nusing namespace std;\\nint main() {\\n int my_int = 10; // No syntax error here\\n cout << \"Integer: \" << my_int << endl;\\n return 0;\\n}\\n'"
      ]
     },
     "execution_count": 211,
     "metadata": {},
     "output_type": "execute_result"
    }
   ],
   "source": [
    "inp"
   ]
  },
  {
   "cell_type": "code",
   "execution_count": 212,
   "id": "c10fd078",
   "metadata": {},
   "outputs": [],
   "source": [
    "def removeComments(inp):\n",
    "    parsed = \"\"\n",
    "    si = len(inp)\n",
    "    \n",
    "    sing_comm = False\n",
    "    mul_comm = False\n",
    "    i = 0\n",
    "    while i <si:\n",
    "        ch = inp[i]\n",
    "        if sing_comm:\n",
    "            if ch == '\\n':\n",
    "                sing_comm = False                \n",
    "        elif mul_comm:\n",
    "            if ch == '*' and (i+1<si and inp[i+1]=='/'):\n",
    "                mul_comm = False\n",
    "                i+=1\n",
    "                \n",
    "        elif ch == '/':\n",
    "            if i+1<si and inp[i+1]=='/':\n",
    "                sing_comm = True\n",
    "            elif i+1<si and inp[i+1]=='*':\n",
    "                mul_comm = True\n",
    "            else:\n",
    "                parsed+=ch\n",
    "        else:\n",
    "            parsed+=ch\n",
    "        i+=1\n",
    "    return parsed"
   ]
  },
  {
   "cell_type": "code",
   "execution_count": 213,
   "id": "27ba9a40",
   "metadata": {},
   "outputs": [],
   "source": [
    "inp = removeComments(inp)"
   ]
  },
  {
   "cell_type": "code",
   "execution_count": 214,
   "id": "a6229d35",
   "metadata": {},
   "outputs": [],
   "source": [
    "def checkOperator(c):\n",
    "    ops = [',',';',':','?','[',']','{','}','(',')','+','=','-','|','&','^','*','/','!','<','>']\n",
    "    return c in ops"
   ]
  },
  {
   "cell_type": "code",
   "execution_count": 215,
   "id": "d046401b",
   "metadata": {},
   "outputs": [],
   "source": [
    "def checkEqual(c):\n",
    "    ops = ['+','-','*','/','&','|','^','!','<','>', '=']\n",
    "    return c in ops"
   ]
  },
  {
   "cell_type": "code",
   "execution_count": 216,
   "id": "d3fe6449",
   "metadata": {},
   "outputs": [],
   "source": [
    "def checkSame(c):\n",
    "    ops = ['+','-','&','|','<','>']\n",
    "    return c in ops"
   ]
  },
  {
   "cell_type": "code",
   "execution_count": 217,
   "id": "dc67a844",
   "metadata": {},
   "outputs": [],
   "source": [
    "def checkBrackets(c):\n",
    "    ops = ['[',']','{','}','(',')']\n",
    "    return c in ops"
   ]
  },
  {
   "cell_type": "code",
   "execution_count": 218,
   "id": "4ffeb93a",
   "metadata": {},
   "outputs": [],
   "source": [
    "tokens = []\n",
    "\n",
    "temp_str = \"\"\n",
    "si = len(inp)\n",
    "i = 0\n",
    "const_str = False\n",
    "char_lit = False\n",
    "line_number = 1  # Track line number\n",
    "\n",
    "while i < si:\n",
    "    ch = inp[i]\n",
    "    \n",
    "    if ch == '\\n':\n",
    "        line_number += 1  # Increment line number\n",
    "        if const_str or char_lit:\n",
    "            #print(\"Error: Unclosed quote at line\", line_number)\n",
    "            break\n",
    "        i += 1  # Move to next character\n",
    "        continue\n",
    "    \n",
    "    i += 1  # Move to next character\n",
    "    \n",
    "    if ch == '\"':\n",
    "        temp_str += ch\n",
    "        if const_str:\n",
    "            const_str = False\n",
    "        else:\n",
    "            const_str = True\n",
    "        continue\n",
    "    \n",
    "    if ch == '\\'':\n",
    "        temp_str += ch\n",
    "        if char_lit:\n",
    "            char_lit = False\n",
    "        else:\n",
    "            char_lit = True\n",
    "        continue\n",
    "    \n",
    "    if const_str or char_lit:\n",
    "        temp_str += ch\n",
    "        continue\n",
    "    \n",
    "    if ch == ' ' or ch == '\\t':\n",
    "        if temp_str != \"\":\n",
    "            tokens.append(temp_str)\n",
    "            temp_str = \"\"\n",
    "    elif checkOperator(ch):\n",
    "        if temp_str != \"\":\n",
    "            tokens.append(temp_str)\n",
    "            temp_str = \"\"\n",
    "        \n",
    "        if checkBrackets(ch):\n",
    "            tokens.append(ch)\n",
    "            continue\n",
    "            \n",
    "        if ch == '-':\n",
    "            if i < si and inp[i] == '>':\n",
    "                tokens.append(\"->\")\n",
    "                i += 1\n",
    "                continue\n",
    "        \n",
    "        if checkSame(ch):\n",
    "            if i < si and inp[i] == ch:\n",
    "                tokens.append(\"\" + ch + ch)\n",
    "                i += 1\n",
    "                continue\n",
    "                \n",
    "        if checkEqual(ch):\n",
    "            if i < si and inp[i] == '=':\n",
    "                tokens.append(\"\" + ch + \"=\")\n",
    "                i += 1\n",
    "                continue\n",
    "        \n",
    "        tokens.append(ch)\n",
    "    else:\n",
    "        temp_str += ch\n",
    "\n",
    "# Check for unclosed quotes at the end of the input"
   ]
  },
  {
   "cell_type": "code",
   "execution_count": 219,
   "id": "79633aa3",
   "metadata": {},
   "outputs": [
    {
     "data": {
      "text/plain": [
       "['#include',\n",
       " '<',\n",
       " 'iostream',\n",
       " '>',\n",
       " 'using',\n",
       " 'namespace',\n",
       " 'std',\n",
       " ';',\n",
       " 'int',\n",
       " 'main',\n",
       " '(',\n",
       " ')',\n",
       " '{',\n",
       " 'int',\n",
       " 'my_int',\n",
       " '=',\n",
       " '10',\n",
       " ';',\n",
       " 'cout',\n",
       " '<<',\n",
       " '\"Integer: \"',\n",
       " '<<',\n",
       " 'my_int',\n",
       " '<<',\n",
       " 'endl',\n",
       " ';',\n",
       " 'return',\n",
       " '0',\n",
       " ';',\n",
       " '}']"
      ]
     },
     "execution_count": 219,
     "metadata": {},
     "output_type": "execute_result"
    }
   ],
   "source": [
    "tokens"
   ]
  },
  {
   "cell_type": "code",
   "execution_count": 220,
   "id": "4e9ee2fa",
   "metadata": {},
   "outputs": [],
   "source": [
    "# !pip install pickleshare"
   ]
  },
  {
   "cell_type": "code",
   "execution_count": 221,
   "id": "cb82fde5",
   "metadata": {},
   "outputs": [],
   "source": [
    "# %store tokens\n",
    "import pickleshare\n",
    "\n",
    "# Create a PickleShare database\n",
    "db = pickleshare.PickleShareDB('~/.ipython/profile_default/db')\n",
    "\n",
    "# Store variables\n",
    "db['tokens'] = tokens\n",
    "db['char_lit'] = char_lit\n",
    "db['const_str'] = const_str\n"
   ]
  }
 ],
 "metadata": {
  "kernelspec": {
   "display_name": "Python 3 (ipykernel)",
   "language": "python",
   "name": "python3"
  },
  "language_info": {
   "codemirror_mode": {
    "name": "ipython",
    "version": 3
   },
   "file_extension": ".py",
   "mimetype": "text/x-python",
   "name": "python",
   "nbconvert_exporter": "python",
   "pygments_lexer": "ipython3",
   "version": "3.11.4"
  },
  "vscode": {
   "interpreter": {
    "hash": "2989b705f35e5f39577c13e2abe37855b396301a6126773aa2a796deedf0eba4"
   }
  }
 },
 "nbformat": 4,
 "nbformat_minor": 5
}
